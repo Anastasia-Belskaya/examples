{
 "cells": [
  {
   "cell_type": "code",
   "execution_count": 1,
   "metadata": {},
   "outputs": [],
   "source": [
    "import pandas as pd\n",
    "import requests\n",
    "import json "
   ]
  },
  {
   "cell_type": "code",
   "execution_count": 2,
   "metadata": {},
   "outputs": [
    {
     "name": "stdout",
     "output_type": "stream",
     "text": [
      "JSON has been received\n"
     ]
    }
   ],
   "source": [
    "url_header = 'https://apidata.mos.ru/v1/datasets/2039?api_key=3da19304e2b7a67b5cdaa0a6577c5cb8'\n",
    "req_header = requests.get(url_header)\n",
    "\n",
    "if req_header.status_code==200:\n",
    "    print('JSON has been received')\n",
    "else:\n",
    "    print('Faileed')"
   ]
  },
  {
   "cell_type": "code",
   "execution_count": 3,
   "metadata": {},
   "outputs": [
    {
     "data": {
      "text/html": [
       "<div>\n",
       "<style scoped>\n",
       "    .dataframe tbody tr th:only-of-type {\n",
       "        vertical-align: middle;\n",
       "    }\n",
       "\n",
       "    .dataframe tbody tr th {\n",
       "        vertical-align: top;\n",
       "    }\n",
       "\n",
       "    .dataframe thead th {\n",
       "        text-align: right;\n",
       "    }\n",
       "</style>\n",
       "<table border=\"1\" class=\"dataframe\">\n",
       "  <thead>\n",
       "    <tr style=\"text-align: right;\">\n",
       "      <th></th>\n",
       "      <th>Name</th>\n",
       "      <th>Caption</th>\n",
       "      <th>Visible</th>\n",
       "      <th>Type</th>\n",
       "      <th>SubColumns</th>\n",
       "    </tr>\n",
       "  </thead>\n",
       "  <tbody>\n",
       "    <tr>\n",
       "      <td>0</td>\n",
       "      <td>Kod</td>\n",
       "      <td>Код</td>\n",
       "      <td>True</td>\n",
       "      <td>STRING</td>\n",
       "      <td>NaN</td>\n",
       "    </tr>\n",
       "    <tr>\n",
       "      <td>1</td>\n",
       "      <td>Name</td>\n",
       "      <td>Наименование</td>\n",
       "      <td>True</td>\n",
       "      <td>STRING</td>\n",
       "      <td>NaN</td>\n",
       "    </tr>\n",
       "    <tr>\n",
       "      <td>2</td>\n",
       "      <td>Latin_name</td>\n",
       "      <td>Транслитерация</td>\n",
       "      <td>False</td>\n",
       "      <td>STRING</td>\n",
       "      <td>NaN</td>\n",
       "    </tr>\n",
       "    <tr>\n",
       "      <td>3</td>\n",
       "      <td>Type</td>\n",
       "      <td>Код вида</td>\n",
       "      <td>True</td>\n",
       "      <td>STRING</td>\n",
       "      <td>NaN</td>\n",
       "    </tr>\n",
       "    <tr>\n",
       "      <td>4</td>\n",
       "      <td>Kod_okato</td>\n",
       "      <td>Код ОКАТО</td>\n",
       "      <td>True</td>\n",
       "      <td>STRING</td>\n",
       "      <td>NaN</td>\n",
       "    </tr>\n",
       "    <tr>\n",
       "      <td>5</td>\n",
       "      <td>global_id</td>\n",
       "      <td>global_id</td>\n",
       "      <td>False</td>\n",
       "      <td>NUMBER</td>\n",
       "      <td>NaN</td>\n",
       "    </tr>\n",
       "  </tbody>\n",
       "</table>\n",
       "</div>"
      ],
      "text/plain": [
       "         Name         Caption  Visible    Type  SubColumns\n",
       "0         Kod             Код     True  STRING         NaN\n",
       "1        Name    Наименование     True  STRING         NaN\n",
       "2  Latin_name  Транслитерация    False  STRING         NaN\n",
       "3        Type        Код вида     True  STRING         NaN\n",
       "4   Kod_okato       Код ОКАТО     True  STRING         NaN\n",
       "5   global_id       global_id    False  NUMBER         NaN"
      ]
     },
     "execution_count": 3,
     "metadata": {},
     "output_type": "execute_result"
    }
   ],
   "source": [
    "json_header = json.dumps(req_header.json()['Columns'], ensure_ascii=False)\n",
    "json_header = pd.read_json(json_header, orient='records')\n",
    "json_header"
   ]
  },
  {
   "cell_type": "code",
   "execution_count": 4,
   "metadata": {},
   "outputs": [],
   "source": [
    "dictionary = json_header[['Name', 'Caption']].set_index('Name').to_dict()['Caption']"
   ]
  },
  {
   "cell_type": "markdown",
   "metadata": {},
   "source": [
    "----------------------------------------------------------------------------------------------------------------------------"
   ]
  },
  {
   "cell_type": "code",
   "execution_count": 5,
   "metadata": {},
   "outputs": [
    {
     "name": "stdout",
     "output_type": "stream",
     "text": [
      "JSON has been received\n"
     ]
    }
   ],
   "source": [
    "url_data = 'https://apidata.mos.ru/v1/datasets/2039/rows?api_key=3da19304e2b7a67b5cdaa0a6577c5cb8'\n",
    "req_data = requests.get(url_data)\n",
    "\n",
    "if req_data.status_code==200:\n",
    "    print('JSON has been received')\n",
    "else:\n",
    "    print('Faileed')"
   ]
  },
  {
   "cell_type": "code",
   "execution_count": 6,
   "metadata": {},
   "outputs": [
    {
     "data": {
      "text/html": [
       "<div>\n",
       "<style scoped>\n",
       "    .dataframe tbody tr th:only-of-type {\n",
       "        vertical-align: middle;\n",
       "    }\n",
       "\n",
       "    .dataframe tbody tr th {\n",
       "        vertical-align: top;\n",
       "    }\n",
       "\n",
       "    .dataframe thead th {\n",
       "        text-align: right;\n",
       "    }\n",
       "</style>\n",
       "<table border=\"1\" class=\"dataframe\">\n",
       "  <thead>\n",
       "    <tr style=\"text-align: right;\">\n",
       "      <th></th>\n",
       "      <th>Код</th>\n",
       "      <th>Наименование</th>\n",
       "      <th>global_id</th>\n",
       "      <th>Транслитерация</th>\n",
       "      <th>Код вида</th>\n",
       "      <th>Код ОКАТО</th>\n",
       "    </tr>\n",
       "  </thead>\n",
       "  <tbody>\n",
       "    <tr>\n",
       "      <td>0</td>\n",
       "      <td>100</td>\n",
       "      <td>Центральный административный округ</td>\n",
       "      <td>58703558</td>\n",
       "      <td>Czentral`ny'j administrativny'j okrug</td>\n",
       "      <td>2</td>\n",
       "      <td>45286000</td>\n",
       "    </tr>\n",
       "    <tr>\n",
       "      <td>1</td>\n",
       "      <td>101</td>\n",
       "      <td>район Арбат</td>\n",
       "      <td>58703559</td>\n",
       "      <td>rajon Arbat</td>\n",
       "      <td>3</td>\n",
       "      <td>45286552</td>\n",
       "    </tr>\n",
       "    <tr>\n",
       "      <td>2</td>\n",
       "      <td>102</td>\n",
       "      <td>Басманный район</td>\n",
       "      <td>58703560</td>\n",
       "      <td>Basmanny'j rajon</td>\n",
       "      <td>3</td>\n",
       "      <td>45286555</td>\n",
       "    </tr>\n",
       "    <tr>\n",
       "      <td>3</td>\n",
       "      <td>103</td>\n",
       "      <td>район Замоскворечье</td>\n",
       "      <td>58703561</td>\n",
       "      <td>rajon Zamoskvorech`e</td>\n",
       "      <td>3</td>\n",
       "      <td>45286560</td>\n",
       "    </tr>\n",
       "    <tr>\n",
       "      <td>4</td>\n",
       "      <td>104</td>\n",
       "      <td>Красносельский район</td>\n",
       "      <td>58703562</td>\n",
       "      <td>Krasnosel`skij rajon</td>\n",
       "      <td>3</td>\n",
       "      <td>45286565</td>\n",
       "    </tr>\n",
       "  </tbody>\n",
       "</table>\n",
       "</div>"
      ],
      "text/plain": [
       "   Код                        Наименование  global_id  \\\n",
       "0  100  Центральный административный округ   58703558   \n",
       "1  101                         район Арбат   58703559   \n",
       "2  102                     Басманный район   58703560   \n",
       "3  103                 район Замоскворечье   58703561   \n",
       "4  104                Красносельский район   58703562   \n",
       "\n",
       "                          Транслитерация  Код вида  Код ОКАТО  \n",
       "0  Czentral`ny'j administrativny'j okrug         2   45286000  \n",
       "1                            rajon Arbat         3   45286552  \n",
       "2                       Basmanny'j rajon         3   45286555  \n",
       "3                   rajon Zamoskvorech`e         3   45286560  \n",
       "4                   Krasnosel`skij rajon         3   45286565  "
      ]
     },
     "execution_count": 6,
     "metadata": {},
     "output_type": "execute_result"
    }
   ],
   "source": [
    "json_data = []\n",
    "for i in req_data.json():\n",
    "    json_data.append(i['Cells'])\n",
    "\n",
    "json_data = json.dumps(json_data, ensure_ascii=False)\n",
    "json_data = pd.read_json(json_data, orient='records')\n",
    "       \n",
    "json_data.rename(columns=dictionary, inplace=True)\n",
    "json_data.head()"
   ]
  }
 ],
 "metadata": {
  "ExecuteTimeLog": [
   {
    "duration": 1127,
    "start_time": "2021-09-12T10:55:06.644Z"
   },
   {
    "duration": 271,
    "start_time": "2021-09-12T10:56:05.534Z"
   },
   {
    "duration": 19,
    "start_time": "2021-09-12T10:56:09.781Z"
   },
   {
    "duration": 279,
    "start_time": "2021-09-12T10:56:32.677Z"
   },
   {
    "duration": 8,
    "start_time": "2021-09-12T10:56:33.654Z"
   },
   {
    "duration": 85,
    "start_time": "2021-09-12T10:56:45.894Z"
   },
   {
    "duration": 113,
    "start_time": "2021-09-12T10:56:57.805Z"
   },
   {
    "duration": 9,
    "start_time": "2021-09-12T10:56:59.509Z"
   },
   {
    "duration": 4,
    "start_time": "2021-09-12T10:58:05.918Z"
   },
   {
    "duration": 473,
    "start_time": "2021-09-12T11:31:29.173Z"
   },
   {
    "duration": 9,
    "start_time": "2021-09-12T11:32:05.575Z"
   },
   {
    "duration": 4,
    "start_time": "2021-09-12T11:32:10.543Z"
   },
   {
    "duration": 195,
    "start_time": "2021-09-12T11:32:23.272Z"
   },
   {
    "duration": 4,
    "start_time": "2021-09-12T11:34:13.175Z"
   },
   {
    "duration": 5,
    "start_time": "2021-09-12T11:34:22.351Z"
   },
   {
    "duration": 68,
    "start_time": "2021-09-12T11:37:15.117Z"
   },
   {
    "duration": 193,
    "start_time": "2021-09-12T11:37:20.748Z"
   },
   {
    "duration": 439,
    "start_time": "2021-09-12T11:39:10.709Z"
   },
   {
    "duration": 304,
    "start_time": "2021-09-12T11:39:44.661Z"
   },
   {
    "duration": 87,
    "start_time": "2021-09-12T11:40:07.399Z"
   },
   {
    "duration": 4,
    "start_time": "2021-09-12T11:40:19.549Z"
   },
   {
    "duration": 127,
    "start_time": "2021-09-12T11:40:20.486Z"
   },
   {
    "duration": 7,
    "start_time": "2021-09-12T11:40:21.813Z"
   },
   {
    "duration": 4,
    "start_time": "2021-09-12T11:40:23.430Z"
   },
   {
    "duration": 201,
    "start_time": "2021-09-12T11:40:25.998Z"
   },
   {
    "duration": 3,
    "start_time": "2021-09-12T11:40:29.181Z"
   },
   {
    "duration": 55,
    "start_time": "2021-09-12T11:40:30.326Z"
   },
   {
    "duration": 84,
    "start_time": "2021-09-12T11:40:32.590Z"
   },
   {
    "duration": 334,
    "start_time": "2021-09-12T11:44:06.789Z"
   },
   {
    "duration": 24,
    "start_time": "2021-09-12T11:45:25.973Z"
   },
   {
    "duration": 321,
    "start_time": "2021-09-12T11:45:32.822Z"
   },
   {
    "duration": 1515,
    "start_time": "2021-09-12T11:45:44.888Z"
   },
   {
    "duration": 127,
    "start_time": "2021-09-12T11:45:46.405Z"
   },
   {
    "duration": 10,
    "start_time": "2021-09-12T11:45:46.534Z"
   },
   {
    "duration": 4,
    "start_time": "2021-09-12T11:45:46.546Z"
   },
   {
    "duration": 198,
    "start_time": "2021-09-12T11:45:46.552Z"
   },
   {
    "duration": 3,
    "start_time": "2021-09-12T11:45:46.751Z"
   },
   {
    "duration": 84,
    "start_time": "2021-09-12T11:45:46.756Z"
   },
   {
    "duration": 28,
    "start_time": "2021-09-12T11:45:46.842Z"
   },
   {
    "duration": 91,
    "start_time": "2021-09-12T11:49:50.968Z"
   },
   {
    "duration": 410,
    "start_time": "2021-09-12T12:00:12.695Z"
   },
   {
    "duration": 259,
    "start_time": "2021-09-12T12:00:53.993Z"
   },
   {
    "duration": 6,
    "start_time": "2021-09-12T12:01:38.735Z"
   },
   {
    "duration": 8,
    "start_time": "2021-09-12T12:03:23.175Z"
   },
   {
    "duration": 25,
    "start_time": "2021-09-12T12:03:49.205Z"
   },
   {
    "duration": 8,
    "start_time": "2021-09-12T12:03:53.999Z"
   },
   {
    "duration": 8,
    "start_time": "2021-09-12T12:04:20.838Z"
   },
   {
    "duration": 10,
    "start_time": "2021-09-12T12:04:51.056Z"
   },
   {
    "duration": 22,
    "start_time": "2021-09-12T12:08:51.928Z"
   },
   {
    "duration": 265,
    "start_time": "2021-09-12T12:10:16.630Z"
   },
   {
    "duration": 16,
    "start_time": "2021-09-12T12:10:28.495Z"
   },
   {
    "duration": 543,
    "start_time": "2021-09-12T12:22:32.196Z"
   },
   {
    "duration": 414,
    "start_time": "2021-09-12T12:26:59.901Z"
   },
   {
    "duration": 304,
    "start_time": "2021-09-12T12:27:10.565Z"
   },
   {
    "duration": 314,
    "start_time": "2021-09-12T12:27:30.484Z"
   },
   {
    "duration": 152,
    "start_time": "2021-09-12T12:27:44.493Z"
   },
   {
    "duration": 12,
    "start_time": "2021-09-12T12:35:15.924Z"
   },
   {
    "duration": 510,
    "start_time": "2021-09-12T12:35:17.868Z"
   },
   {
    "duration": 29,
    "start_time": "2021-09-12T12:35:29.579Z"
   },
   {
    "duration": 17,
    "start_time": "2021-09-12T12:35:58.009Z"
   },
   {
    "duration": 191,
    "start_time": "2021-09-12T12:35:59.811Z"
   },
   {
    "duration": 7,
    "start_time": "2021-09-12T12:39:30.595Z"
   },
   {
    "duration": 264,
    "start_time": "2021-09-12T12:40:17.027Z"
   },
   {
    "duration": 6,
    "start_time": "2021-09-12T12:40:37.627Z"
   },
   {
    "duration": 6,
    "start_time": "2021-09-12T12:41:25.635Z"
   },
   {
    "duration": 15,
    "start_time": "2021-09-12T12:42:02.658Z"
   },
   {
    "duration": 1554,
    "start_time": "2021-09-12T12:42:23.890Z"
   },
   {
    "duration": 125,
    "start_time": "2021-09-12T12:42:25.445Z"
   },
   {
    "duration": 10,
    "start_time": "2021-09-12T12:42:25.574Z"
   },
   {
    "duration": 4,
    "start_time": "2021-09-12T12:42:25.592Z"
   },
   {
    "duration": 208,
    "start_time": "2021-09-12T12:42:25.598Z"
   },
   {
    "duration": 3,
    "start_time": "2021-09-12T12:42:25.808Z"
   },
   {
    "duration": 78,
    "start_time": "2021-09-12T12:42:25.813Z"
   },
   {
    "duration": 36,
    "start_time": "2021-09-12T12:42:25.895Z"
   },
   {
    "duration": 7,
    "start_time": "2021-09-12T12:42:25.933Z"
   },
   {
    "duration": 597,
    "start_time": "2021-09-12T12:42:25.941Z"
   },
   {
    "duration": 53,
    "start_time": "2021-09-12T12:42:26.541Z"
   },
   {
    "duration": 21,
    "start_time": "2021-09-12T12:43:47.873Z"
   },
   {
    "duration": 14,
    "start_time": "2021-09-12T12:43:59.972Z"
   },
   {
    "duration": 16,
    "start_time": "2021-09-12T12:48:00.644Z"
   },
   {
    "duration": 15,
    "start_time": "2021-09-12T12:48:16.645Z"
   },
   {
    "duration": 16,
    "start_time": "2021-09-12T12:48:21.792Z"
   },
   {
    "duration": 6944,
    "start_time": "2021-09-12T12:48:47.500Z"
   },
   {
    "duration": 7,
    "start_time": "2021-09-12T12:48:57.973Z"
   },
   {
    "duration": 262,
    "start_time": "2021-09-12T12:50:06.709Z"
   },
   {
    "duration": 14,
    "start_time": "2021-09-12T12:50:31.948Z"
   },
   {
    "duration": 34,
    "start_time": "2021-09-12T12:50:37.852Z"
   },
   {
    "duration": 32,
    "start_time": "2021-09-12T12:50:45.473Z"
   },
   {
    "duration": 34,
    "start_time": "2021-09-12T12:51:23.908Z"
   },
   {
    "duration": 91,
    "start_time": "2021-09-12T12:51:32.083Z"
   },
   {
    "duration": 34,
    "start_time": "2021-09-12T12:51:42.180Z"
   },
   {
    "duration": 44,
    "start_time": "2021-09-12T12:51:51.277Z"
   },
   {
    "duration": 38,
    "start_time": "2021-09-12T12:51:59.508Z"
   },
   {
    "duration": 22,
    "start_time": "2021-09-12T12:59:22.243Z"
   },
   {
    "duration": 24,
    "start_time": "2021-09-12T13:00:09.235Z"
   },
   {
    "duration": 23,
    "start_time": "2021-09-12T13:00:14.680Z"
   },
   {
    "duration": 25,
    "start_time": "2021-09-12T13:00:23.290Z"
   },
   {
    "duration": 28,
    "start_time": "2021-09-12T13:00:31.524Z"
   },
   {
    "duration": 85,
    "start_time": "2021-09-12T13:00:48.276Z"
   },
   {
    "duration": 6517,
    "start_time": "2021-09-12T13:11:40.489Z"
   },
   {
    "duration": 63,
    "start_time": "2021-09-12T13:12:32.994Z"
   },
   {
    "duration": 299,
    "start_time": "2021-09-12T13:12:48.335Z"
   },
   {
    "duration": 52,
    "start_time": "2021-09-12T13:12:57.857Z"
   },
   {
    "duration": 41,
    "start_time": "2021-09-12T13:13:28.969Z"
   },
   {
    "duration": 65,
    "start_time": "2021-09-12T13:13:54.545Z"
   },
   {
    "duration": 50,
    "start_time": "2021-09-12T13:16:59.907Z"
   },
   {
    "duration": 63,
    "start_time": "2021-09-12T13:17:06.977Z"
   },
   {
    "duration": 52,
    "start_time": "2021-09-12T13:18:06.617Z"
   },
   {
    "duration": 55,
    "start_time": "2021-09-12T13:18:37.965Z"
   },
   {
    "duration": 52,
    "start_time": "2021-09-12T13:19:08.986Z"
   },
   {
    "duration": 54,
    "start_time": "2021-09-12T13:19:17.338Z"
   },
   {
    "duration": 1027,
    "start_time": "2021-09-12T13:22:34.942Z"
   },
   {
    "duration": 577,
    "start_time": "2021-09-12T13:22:55.032Z"
   },
   {
    "duration": 305,
    "start_time": "2021-09-12T13:23:04.930Z"
   },
   {
    "duration": 47,
    "start_time": "2021-09-12T13:23:09.249Z"
   },
   {
    "duration": 52,
    "start_time": "2021-09-12T13:23:15.674Z"
   },
   {
    "duration": 51,
    "start_time": "2021-09-12T13:24:34.233Z"
   },
   {
    "duration": 59,
    "start_time": "2021-09-12T13:24:44.262Z"
   },
   {
    "duration": 52,
    "start_time": "2021-09-12T13:24:54.235Z"
   },
   {
    "duration": 68,
    "start_time": "2021-09-12T13:25:01.064Z"
   },
   {
    "duration": 88,
    "start_time": "2021-09-12T13:25:11.336Z"
   },
   {
    "duration": 51,
    "start_time": "2021-09-12T13:25:28.609Z"
   },
   {
    "duration": 67,
    "start_time": "2021-09-12T13:25:49.720Z"
   },
   {
    "duration": -318,
    "start_time": "2021-09-12T13:26:14.317Z"
   },
   {
    "duration": 53,
    "start_time": "2021-09-12T13:26:16.264Z"
   },
   {
    "duration": 53,
    "start_time": "2021-09-12T13:26:54.441Z"
   },
   {
    "duration": 153,
    "start_time": "2021-09-12T13:28:09.584Z"
   },
   {
    "duration": 9,
    "start_time": "2021-09-12T13:32:41.464Z"
   },
   {
    "duration": 9,
    "start_time": "2021-09-12T13:33:03.012Z"
   },
   {
    "duration": 28,
    "start_time": "2021-09-12T13:33:50.944Z"
   },
   {
    "duration": 90,
    "start_time": "2021-09-12T13:34:15.719Z"
   },
   {
    "duration": 5,
    "start_time": "2021-09-12T13:34:25.390Z"
   },
   {
    "duration": 8,
    "start_time": "2021-09-12T13:34:27.206Z"
   },
   {
    "duration": 10,
    "start_time": "2021-09-12T13:34:46.072Z"
   },
   {
    "duration": 24,
    "start_time": "2021-09-12T13:36:29.249Z"
   },
   {
    "duration": 23,
    "start_time": "2021-09-12T13:37:26.406Z"
   },
   {
    "duration": 289,
    "start_time": "2021-09-12T13:37:33.031Z"
   },
   {
    "duration": 274,
    "start_time": "2021-09-12T13:37:40.088Z"
   },
   {
    "duration": 460,
    "start_time": "2021-09-12T13:37:46.511Z"
   },
   {
    "duration": 260,
    "start_time": "2021-09-12T13:37:53.263Z"
   },
   {
    "duration": 277,
    "start_time": "2021-09-12T13:37:57.438Z"
   },
   {
    "duration": 265,
    "start_time": "2021-09-12T13:38:07.878Z"
   },
   {
    "duration": 15,
    "start_time": "2021-09-12T13:38:37.966Z"
   },
   {
    "duration": 1487,
    "start_time": "2021-09-12T13:39:05.802Z"
   },
   {
    "duration": 141,
    "start_time": "2021-09-12T13:39:07.292Z"
   },
   {
    "duration": 10,
    "start_time": "2021-09-12T13:39:07.438Z"
   },
   {
    "duration": 3,
    "start_time": "2021-09-12T13:39:07.450Z"
   },
   {
    "duration": 202,
    "start_time": "2021-09-12T13:39:07.454Z"
   },
   {
    "duration": 3,
    "start_time": "2021-09-12T13:39:07.658Z"
   },
   {
    "duration": 86,
    "start_time": "2021-09-12T13:39:07.662Z"
   },
   {
    "duration": 29,
    "start_time": "2021-09-12T13:39:07.751Z"
   },
   {
    "duration": 8,
    "start_time": "2021-09-12T13:39:07.792Z"
   },
   {
    "duration": 585,
    "start_time": "2021-09-12T13:39:07.802Z"
   },
   {
    "duration": 16,
    "start_time": "2021-09-12T13:39:08.391Z"
   },
   {
    "duration": 9,
    "start_time": "2021-09-12T13:39:08.408Z"
   },
   {
    "duration": 103,
    "start_time": "2021-09-12T13:39:08.419Z"
   },
   {
    "duration": 415,
    "start_time": "2021-09-12T13:39:08.523Z"
   },
   {
    "duration": -1356,
    "start_time": "2021-09-12T13:39:10.296Z"
   },
   {
    "duration": -1357,
    "start_time": "2021-09-12T13:39:10.298Z"
   },
   {
    "duration": -1357,
    "start_time": "2021-09-12T13:39:10.299Z"
   },
   {
    "duration": -1358,
    "start_time": "2021-09-12T13:39:10.301Z"
   },
   {
    "duration": -1359,
    "start_time": "2021-09-12T13:39:10.302Z"
   },
   {
    "duration": -1359,
    "start_time": "2021-09-12T13:39:10.303Z"
   },
   {
    "duration": 6228,
    "start_time": "2021-09-12T13:39:26.721Z"
   },
   {
    "duration": 70,
    "start_time": "2021-09-12T13:39:50.297Z"
   },
   {
    "duration": 1520,
    "start_time": "2021-09-12T13:40:21.275Z"
   },
   {
    "duration": 134,
    "start_time": "2021-09-12T13:40:22.797Z"
   },
   {
    "duration": 11,
    "start_time": "2021-09-12T13:40:22.934Z"
   },
   {
    "duration": 8,
    "start_time": "2021-09-12T13:40:22.947Z"
   },
   {
    "duration": 254,
    "start_time": "2021-09-12T13:40:22.957Z"
   },
   {
    "duration": 4,
    "start_time": "2021-09-12T13:40:23.214Z"
   },
   {
    "duration": 82,
    "start_time": "2021-09-12T13:40:23.221Z"
   },
   {
    "duration": 31,
    "start_time": "2021-09-12T13:40:23.305Z"
   },
   {
    "duration": 9,
    "start_time": "2021-09-12T13:40:23.339Z"
   },
   {
    "duration": 590,
    "start_time": "2021-09-12T13:40:23.350Z"
   },
   {
    "duration": 51,
    "start_time": "2021-09-12T13:40:23.943Z"
   },
   {
    "duration": 9,
    "start_time": "2021-09-12T13:40:23.996Z"
   },
   {
    "duration": 95,
    "start_time": "2021-09-12T13:40:24.007Z"
   },
   {
    "duration": 120,
    "start_time": "2021-09-12T13:40:24.105Z"
   },
   {
    "duration": 7,
    "start_time": "2021-09-12T13:40:24.227Z"
   },
   {
    "duration": 33,
    "start_time": "2021-09-12T13:40:24.236Z"
   },
   {
    "duration": 33,
    "start_time": "2021-09-12T13:40:24.271Z"
   },
   {
    "duration": 23,
    "start_time": "2021-09-12T13:40:24.307Z"
   },
   {
    "duration": 29,
    "start_time": "2021-09-12T13:40:56.756Z"
   },
   {
    "duration": 20,
    "start_time": "2021-09-12T13:41:06.538Z"
   },
   {
    "duration": 420,
    "start_time": "2021-09-12T13:42:17.899Z"
   },
   {
    "duration": 25,
    "start_time": "2021-09-12T13:45:42.635Z"
   },
   {
    "duration": 25,
    "start_time": "2021-09-12T13:45:59.979Z"
   },
   {
    "duration": 163,
    "start_time": "2021-09-12T13:50:46.465Z"
   },
   {
    "duration": 29,
    "start_time": "2021-09-12T13:50:53.448Z"
   },
   {
    "duration": 16,
    "start_time": "2021-09-12T13:51:18.712Z"
   },
   {
    "duration": 14,
    "start_time": "2021-09-12T13:55:25.032Z"
   },
   {
    "duration": 16,
    "start_time": "2021-09-12T13:55:33.000Z"
   },
   {
    "duration": 12,
    "start_time": "2021-09-12T13:56:03.480Z"
   },
   {
    "duration": 260,
    "start_time": "2021-09-12T13:57:59.841Z"
   },
   {
    "duration": 25,
    "start_time": "2021-09-12T13:58:17.440Z"
   },
   {
    "duration": 16,
    "start_time": "2021-09-12T13:58:22.128Z"
   },
   {
    "duration": 31,
    "start_time": "2021-09-12T14:01:39.208Z"
   },
   {
    "duration": 20,
    "start_time": "2021-09-12T14:01:43.694Z"
   },
   {
    "duration": 61,
    "start_time": "2021-09-12T14:01:46.520Z"
   },
   {
    "duration": 6212,
    "start_time": "2021-09-12T14:08:17.224Z"
   },
   {
    "duration": 228,
    "start_time": "2021-09-12T14:08:45.888Z"
   },
   {
    "duration": 109,
    "start_time": "2021-09-12T14:08:49.424Z"
   },
   {
    "duration": 115,
    "start_time": "2021-09-12T14:09:03.539Z"
   },
   {
    "duration": 114,
    "start_time": "2021-09-12T14:09:24.704Z"
   },
   {
    "duration": 267,
    "start_time": "2021-09-12T14:09:45.945Z"
   },
   {
    "duration": 110,
    "start_time": "2021-09-12T14:10:00.360Z"
   },
   {
    "duration": 128,
    "start_time": "2021-09-12T14:10:03.679Z"
   },
   {
    "duration": 134,
    "start_time": "2021-09-12T14:11:06.416Z"
   },
   {
    "duration": 311,
    "start_time": "2021-09-12T14:11:30.816Z"
   },
   {
    "duration": 131,
    "start_time": "2021-09-12T14:11:36.016Z"
   },
   {
    "duration": 128,
    "start_time": "2021-09-12T14:11:44.831Z"
   },
   {
    "duration": 274,
    "start_time": "2021-09-12T14:12:18.672Z"
   },
   {
    "duration": 134,
    "start_time": "2021-09-12T14:12:25.512Z"
   },
   {
    "duration": 138,
    "start_time": "2021-09-12T14:12:40.063Z"
   },
   {
    "duration": 127,
    "start_time": "2021-09-12T14:12:49.152Z"
   },
   {
    "duration": 338,
    "start_time": "2021-09-12T14:12:59.000Z"
   },
   {
    "duration": 131,
    "start_time": "2021-09-12T14:13:32.409Z"
   },
   {
    "duration": 130,
    "start_time": "2021-09-12T14:13:58.385Z"
   },
   {
    "duration": 291,
    "start_time": "2021-09-12T14:14:23.137Z"
   },
   {
    "duration": 126,
    "start_time": "2021-09-12T14:15:54.215Z"
   },
   {
    "duration": 29,
    "start_time": "2021-09-12T14:20:06.591Z"
   },
   {
    "duration": 168,
    "start_time": "2021-09-12T14:21:17.679Z"
   },
   {
    "duration": 616,
    "start_time": "2021-12-19T17:44:34.924Z"
   },
   {
    "duration": 68,
    "start_time": "2021-12-19T17:44:35.542Z"
   },
   {
    "duration": 98,
    "start_time": "2021-12-19T17:44:35.612Z"
   },
   {
    "duration": 4,
    "start_time": "2021-12-19T17:44:35.712Z"
   },
   {
    "duration": 822,
    "start_time": "2021-12-19T17:44:35.718Z"
   },
   {
    "duration": 17,
    "start_time": "2021-12-19T17:44:36.541Z"
   }
  ],
  "kernelspec": {
   "display_name": "Python 3",
   "language": "python",
   "name": "python3"
  },
  "language_info": {
   "codemirror_mode": {
    "name": "ipython",
    "version": 3
   },
   "file_extension": ".py",
   "mimetype": "text/x-python",
   "name": "python",
   "nbconvert_exporter": "python",
   "pygments_lexer": "ipython3",
   "version": "3.7.8"
  },
  "toc": {
   "base_numbering": 1,
   "nav_menu": {},
   "number_sections": true,
   "sideBar": true,
   "skip_h1_title": true,
   "title_cell": "Table of Contents",
   "title_sidebar": "Contents",
   "toc_cell": false,
   "toc_position": {},
   "toc_section_display": true,
   "toc_window_display": false
  }
 },
 "nbformat": 4,
 "nbformat_minor": 2
}
